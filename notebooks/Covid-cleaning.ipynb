{
 "cells": [
  {
   "cell_type": "code",
   "execution_count": 43,
   "metadata": {},
   "outputs": [],
   "source": [
    "import glob\n",
    "import os\n",
    "import pandas as pd"
   ]
  },
  {
   "cell_type": "code",
   "execution_count": 44,
   "metadata": {},
   "outputs": [],
   "source": [
    "# create empty dataframe\n",
    "column_names = [\"Date\", \"Country\", \"Confirmed\", \"Recovered\", \"Deaths\"]\n",
    "df_new = pd.DataFrame(columns = column_names)"
   ]
  },
  {
   "cell_type": "code",
   "execution_count": 45,
   "metadata": {},
   "outputs": [
    {
     "name": "stdout",
     "output_type": "stream",
     "text": [
      "Number of files:  64\n",
      "/home/hytonenj/Desktop/idv-project/data/csse_covid_19_daily_reports/01-22-2020.csv\n",
      "/home/hytonenj/Desktop/idv-project/data/csse_covid_19_daily_reports/01-23-2020.csv\n",
      "/home/hytonenj/Desktop/idv-project/data/csse_covid_19_daily_reports/01-24-2020.csv\n",
      "/home/hytonenj/Desktop/idv-project/data/csse_covid_19_daily_reports/01-25-2020.csv\n",
      "/home/hytonenj/Desktop/idv-project/data/csse_covid_19_daily_reports/01-26-2020.csv\n",
      "/home/hytonenj/Desktop/idv-project/data/csse_covid_19_daily_reports/01-27-2020.csv\n",
      "/home/hytonenj/Desktop/idv-project/data/csse_covid_19_daily_reports/01-28-2020.csv\n",
      "/home/hytonenj/Desktop/idv-project/data/csse_covid_19_daily_reports/01-29-2020.csv\n",
      "/home/hytonenj/Desktop/idv-project/data/csse_covid_19_daily_reports/01-30-2020.csv\n",
      "/home/hytonenj/Desktop/idv-project/data/csse_covid_19_daily_reports/01-31-2020.csv\n",
      "/home/hytonenj/Desktop/idv-project/data/csse_covid_19_daily_reports/02-01-2020.csv\n",
      "/home/hytonenj/Desktop/idv-project/data/csse_covid_19_daily_reports/02-02-2020.csv\n"
     ]
    },
    {
     "name": "stderr",
     "output_type": "stream",
     "text": [
      "/home/hytonenj/anaconda3/envs/naprojekti/lib/python3.7/site-packages/pandas/core/frame.py:7138: FutureWarning: Sorting because non-concatenation axis is not aligned. A future version\n",
      "of pandas will change to not sort by default.\n",
      "\n",
      "To accept the future behavior, pass 'sort=False'.\n",
      "\n",
      "To retain the current behavior and silence the warning, pass 'sort=True'.\n",
      "\n",
      "  sort=sort,\n"
     ]
    },
    {
     "name": "stdout",
     "output_type": "stream",
     "text": [
      "/home/hytonenj/Desktop/idv-project/data/csse_covid_19_daily_reports/02-03-2020.csv\n",
      "/home/hytonenj/Desktop/idv-project/data/csse_covid_19_daily_reports/02-04-2020.csv\n",
      "/home/hytonenj/Desktop/idv-project/data/csse_covid_19_daily_reports/02-05-2020.csv\n",
      "/home/hytonenj/Desktop/idv-project/data/csse_covid_19_daily_reports/02-06-2020.csv\n",
      "/home/hytonenj/Desktop/idv-project/data/csse_covid_19_daily_reports/02-07-2020.csv\n",
      "/home/hytonenj/Desktop/idv-project/data/csse_covid_19_daily_reports/02-08-2020.csv\n",
      "/home/hytonenj/Desktop/idv-project/data/csse_covid_19_daily_reports/02-09-2020.csv\n",
      "/home/hytonenj/Desktop/idv-project/data/csse_covid_19_daily_reports/02-10-2020.csv\n",
      "/home/hytonenj/Desktop/idv-project/data/csse_covid_19_daily_reports/02-11-2020.csv\n",
      "/home/hytonenj/Desktop/idv-project/data/csse_covid_19_daily_reports/02-12-2020.csv\n",
      "/home/hytonenj/Desktop/idv-project/data/csse_covid_19_daily_reports/02-13-2020.csv\n",
      "/home/hytonenj/Desktop/idv-project/data/csse_covid_19_daily_reports/02-14-2020.csv\n",
      "/home/hytonenj/Desktop/idv-project/data/csse_covid_19_daily_reports/02-15-2020.csv\n",
      "/home/hytonenj/Desktop/idv-project/data/csse_covid_19_daily_reports/02-16-2020.csv\n",
      "/home/hytonenj/Desktop/idv-project/data/csse_covid_19_daily_reports/02-17-2020.csv\n",
      "/home/hytonenj/Desktop/idv-project/data/csse_covid_19_daily_reports/02-18-2020.csv\n",
      "/home/hytonenj/Desktop/idv-project/data/csse_covid_19_daily_reports/02-19-2020.csv\n",
      "/home/hytonenj/Desktop/idv-project/data/csse_covid_19_daily_reports/02-20-2020.csv\n",
      "/home/hytonenj/Desktop/idv-project/data/csse_covid_19_daily_reports/02-21-2020.csv\n",
      "/home/hytonenj/Desktop/idv-project/data/csse_covid_19_daily_reports/02-22-2020.csv\n",
      "/home/hytonenj/Desktop/idv-project/data/csse_covid_19_daily_reports/02-23-2020.csv\n",
      "/home/hytonenj/Desktop/idv-project/data/csse_covid_19_daily_reports/02-24-2020.csv\n",
      "/home/hytonenj/Desktop/idv-project/data/csse_covid_19_daily_reports/02-25-2020.csv\n",
      "/home/hytonenj/Desktop/idv-project/data/csse_covid_19_daily_reports/02-26-2020.csv\n",
      "/home/hytonenj/Desktop/idv-project/data/csse_covid_19_daily_reports/02-27-2020.csv\n",
      "/home/hytonenj/Desktop/idv-project/data/csse_covid_19_daily_reports/02-28-2020.csv\n",
      "/home/hytonenj/Desktop/idv-project/data/csse_covid_19_daily_reports/02-29-2020.csv\n",
      "/home/hytonenj/Desktop/idv-project/data/csse_covid_19_daily_reports/03-01-2020.csv\n",
      "/home/hytonenj/Desktop/idv-project/data/csse_covid_19_daily_reports/03-02-2020.csv\n",
      "/home/hytonenj/Desktop/idv-project/data/csse_covid_19_daily_reports/03-03-2020.csv\n",
      "/home/hytonenj/Desktop/idv-project/data/csse_covid_19_daily_reports/03-04-2020.csv\n",
      "/home/hytonenj/Desktop/idv-project/data/csse_covid_19_daily_reports/03-05-2020.csv\n",
      "/home/hytonenj/Desktop/idv-project/data/csse_covid_19_daily_reports/03-06-2020.csv\n",
      "/home/hytonenj/Desktop/idv-project/data/csse_covid_19_daily_reports/03-07-2020.csv\n",
      "/home/hytonenj/Desktop/idv-project/data/csse_covid_19_daily_reports/03-08-2020.csv\n",
      "/home/hytonenj/Desktop/idv-project/data/csse_covid_19_daily_reports/03-09-2020.csv\n",
      "/home/hytonenj/Desktop/idv-project/data/csse_covid_19_daily_reports/03-10-2020.csv\n",
      "/home/hytonenj/Desktop/idv-project/data/csse_covid_19_daily_reports/03-11-2020.csv\n",
      "/home/hytonenj/Desktop/idv-project/data/csse_covid_19_daily_reports/03-12-2020.csv\n",
      "/home/hytonenj/Desktop/idv-project/data/csse_covid_19_daily_reports/03-13-2020.csv\n",
      "/home/hytonenj/Desktop/idv-project/data/csse_covid_19_daily_reports/03-14-2020.csv\n",
      "/home/hytonenj/Desktop/idv-project/data/csse_covid_19_daily_reports/03-15-2020.csv\n",
      "/home/hytonenj/Desktop/idv-project/data/csse_covid_19_daily_reports/03-16-2020.csv\n",
      "/home/hytonenj/Desktop/idv-project/data/csse_covid_19_daily_reports/03-17-2020.csv\n",
      "/home/hytonenj/Desktop/idv-project/data/csse_covid_19_daily_reports/03-18-2020.csv\n",
      "/home/hytonenj/Desktop/idv-project/data/csse_covid_19_daily_reports/03-19-2020.csv\n",
      "/home/hytonenj/Desktop/idv-project/data/csse_covid_19_daily_reports/03-20-2020.csv\n",
      "/home/hytonenj/Desktop/idv-project/data/csse_covid_19_daily_reports/03-21-2020.csv\n",
      "/home/hytonenj/Desktop/idv-project/data/csse_covid_19_daily_reports/03-22-2020.csv\n",
      "/home/hytonenj/Desktop/idv-project/data/csse_covid_19_daily_reports/03-23-2020.csv\n",
      "/home/hytonenj/Desktop/idv-project/data/csse_covid_19_daily_reports/03-24-2020.csv\n",
      "/home/hytonenj/Desktop/idv-project/data/csse_covid_19_daily_reports/03-25-2020.csv\n"
     ]
    }
   ],
   "source": [
    "files = sorted(glob.glob('/home/hytonenj/Desktop/idv-project/data/csse_covid_19_daily_reports/*.csv'))\n",
    "print(\"Number of files: \", len(files))\n",
    "\n",
    "for i,file in enumerate(files):\n",
    "    df = pd.read_csv(file)\n",
    "    print(file)\n",
    "    \n",
    "    if(\"Country/Region\" in df.columns):\n",
    "        df.rename(columns = {'Country/Region': 'Country'}, inplace = True)\n",
    "    if(\"Country_Region\" in df.columns):\n",
    "        df.rename(columns = {'Country_Region': 'Country'}, inplace = True)\n",
    "    \n",
    "    data = df.groupby('Country')['Confirmed','Deaths', 'Recovered'].sum()\n",
    "    \n",
    "    data.reset_index(level=0, inplace=True)\n",
    "    data['Country'].replace({'Mainland China' : 'China', 'UK' : 'United Kingdom', 'US' : 'United States'}, inplace = True)\n",
    "    \n",
    "    data.drop(data[data['Country']=='Others'].index , inplace=True)\n",
    "    data.drop(data[data['Country']=='Bahamas, The'].index , inplace=True)\n",
    "    data.drop(data[data['Country']=='Cruise Ship'].index , inplace=True)\n",
    "    \n",
    "    filename = os.path.basename(file)\n",
    "    data['Date'] = filename[0:-4]\n",
    "    \n",
    "    df_new = df_new.append(data, ignore_index=True)\n",
    "    "
   ]
  },
  {
   "cell_type": "code",
   "execution_count": 46,
   "metadata": {},
   "outputs": [],
   "source": [
    "df_new.to_csv(r'/home/hytonenj/Desktop/idv-project/data/cleaned_reports/data.csv', index = False)"
   ]
  },
  {
   "cell_type": "code",
   "execution_count": null,
   "metadata": {},
   "outputs": [],
   "source": []
  }
 ],
 "metadata": {
  "kernelspec": {
   "display_name": "Python 3",
   "language": "python",
   "name": "python3"
  },
  "language_info": {
   "codemirror_mode": {
    "name": "ipython",
    "version": 3
   },
   "file_extension": ".py",
   "mimetype": "text/x-python",
   "name": "python",
   "nbconvert_exporter": "python",
   "pygments_lexer": "ipython3",
   "version": "3.7.6"
  }
 },
 "nbformat": 4,
 "nbformat_minor": 2
}
